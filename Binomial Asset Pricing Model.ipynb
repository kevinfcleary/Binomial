{
 "cells": [
  {
   "cell_type": "code",
   "execution_count": 1,
   "metadata": {
    "collapsed": true
   },
   "outputs": [],
   "source": [
    "import numpy as np"
   ]
  },
  {
   "cell_type": "markdown",
   "metadata": {},
   "source": [
    "We want to implement the Binomial Asset Pricing Model and use it to price derivative securities. We will employ two methods: the first is a Monte Carlo method in which we compute the risk neutral probabilities and then generate one random path, and compute its discounted price. The second is to implement a binomial tree, compute the value of the option at expiry, and then use that information to work backwards up the tree to arrive at the present value of the option. The MC method both in implementation and precision gives a quick and dirty answer, it is easy to write the code, and for moderate trial sizes is very quick, however the answers, as with all MC based methods have high accuracy, low precision. The binomial tree implementation is a bit more involved, but gives exact answers, and for modest tree sizes is not much slower than the MC method, but is much more precise."
   ]
  },
  {
   "cell_type": "markdown",
   "metadata": {},
   "source": [
    "The relevant variables you may see referenced in function defintions are as follows: S0 is the asset price at time 0, r is the risk-free rate, K is the strike price, u is the \"up\" factor (the rate at which the price of the asset increases after one period), pu is the risk-neutral probability of selecting up, d is the \"down\" factor (the rate at which the price of the asset decreases after one period), pd is the risk-neutral probability of picking down, and n is the number of periods in the model."
   ]
  },
  {
   "cell_type": "code",
   "execution_count": 197,
   "metadata": {
    "collapsed": true
   },
   "outputs": [],
   "source": [
    "def BAMP_MC(S0,r,K,u,d,n):\n",
    "    # Compute the risk neutral probabilities\n",
    "    pu = (1+r-d)/(u-d)\n",
    "    pd = (u-1-r)/(u-d)\n",
    "    \n",
    "    # Choose paths randomly n times, compute the discounted price at expiry\n",
    "    for i in range(0,n):\n",
    "    #This statement picks from u with probability pu, and d with probability pd\n",
    "        S0 *= np.random.choice([u,d],p=[pu,pd])\n",
    "    deriv_value = (1/(1+r))**n * max(S0-K,0)\n",
    "    return deriv_value     "
   ]
  },
  {
   "cell_type": "markdown",
   "metadata": {},
   "source": [
    "We now take our MC method to generate one path, and average over some large number of paths, N."
   ]
  },
  {
   "cell_type": "code",
   "execution_count": 136,
   "metadata": {
    "collapsed": true
   },
   "outputs": [],
   "source": [
    "def BAMP_MC_Opt_Price(S0,r,K,u,d,n,N):\n",
    "    opt_value=0\n",
    "    for i in range(1,N):\n",
    "        opt_value += BAMP_MC(S0,r,K,u,d,n)\n",
    "    opt_value /= N\n",
    "    return opt_value    "
   ]
  },
  {
   "cell_type": "markdown",
   "metadata": {},
   "source": [
    "We will now check our model against a known result. This happens to be the first example computed in Shreve, and we should get V0 = 1.2"
   ]
  },
  {
   "cell_type": "code",
   "execution_count": 18,
   "metadata": {},
   "outputs": [
    {
     "data": {
      "text/plain": [
       "1.2062399999998903"
      ]
     },
     "execution_count": 18,
     "metadata": {},
     "output_type": "execute_result"
    }
   ],
   "source": [
    "BAMP_MC_Opt_Price(4,.25,5,2,0.5,1,10000)"
   ]
  },
  {
   "cell_type": "markdown",
   "metadata": {},
   "source": [
    "The binomial tree implementation will proceed as follows: We define a node class, each node has a value and two children, which are inititally assigned to None. We will then construct a binomial or full tree (A full tree is one in which each level is maximally populated, a full tree of height h has 2^h - 1 nodes.) We do this by iteratively adding layers to the tree by iterating over a list which stores the set of nodes."
   ]
  },
  {
   "cell_type": "code",
   "execution_count": 198,
   "metadata": {
    "collapsed": true
   },
   "outputs": [],
   "source": [
    "class Node:\n",
    "    def __init__(self,val,depth):\n",
    "        self.left = None\n",
    "        self.right = None\n",
    "        self.value = val\n",
    "        self.depth = depth"
   ]
  },
  {
   "cell_type": "code",
   "execution_count": 95,
   "metadata": {},
   "outputs": [],
   "source": [
    "class BinomialTree:\n",
    "    \n",
    "    # This constructor takes in the initial asset price, and adds the root as the first element of the list of nodes \n",
    "    def __init__(self,S):\n",
    "        self.root = Node(S,0)\n",
    "        self.node_list = list()\n",
    "        self.node_list.append(self.root)\n",
    "    \n",
    "    def getRoot(self):\n",
    "        return self.root\n",
    "    \n",
    "    # This method adds both left and right children with the appropriate up and down factor\n",
    "    # Our convention is that the left child is the down factor, and the right child is the up factor\n",
    "    def add_children(self,node,u,d):\n",
    "        if(node.left == None and node.right == None):\n",
    "            node.left = Node(d*node.value, node.depth+1)\n",
    "            self.node_list.append(node.left)\n",
    "            node.right = Node(u*node.value, node.depth+1)\n",
    "            self.node_list.append(node.right)\n",
    "        else:\n",
    "            pass\n",
    "    \n",
    "    # This method adds a layer by iterating through the list, since the add children method passes over already\n",
    "    # populated nodes it can safely iterate the entire list. Note: There is certainly a faster way using\n",
    "    # the depth characteristic and list comprehensions, but this works for now\n",
    "    def add_layer(self,u,d):\n",
    "        for i in range(0,len(self.node_list)):\n",
    "            self.add_children(self.node_list[i],u,d)\n",
    "    \n",
    "    # This iteratively adds layers\n",
    "    def pop_full_tree(self,u,d,max_depth):\n",
    "        for i in range(0,max_depth):\n",
    "            self.add_layer(u,d)\n",
    "            \n",
    "    #This was mostly used for debugging so I could check that my trees were functioning properly    \n",
    "    def print_tree(self):\n",
    "        for i in range(0,len(self.node_list)):\n",
    "            print self.node_list[i].value\n",
    "    "
   ]
  },
  {
   "cell_type": "markdown",
   "metadata": {
    "collapsed": true
   },
   "source": [
    "With the tree implementation in place we now can price our option. To do this we employ the following method. The logic is as follows: construct two trees, one of which stores the prices of assets, the other reads the price at expiry from the first tree and computes the derivative price. It then works backwards up the tree using risk neutral pricing to compute the price of the derivative security at each time step."
   ]
  },
  {
   "cell_type": "code",
   "execution_count": 185,
   "metadata": {},
   "outputs": [],
   "source": [
    "def BAMP_Tree_Opt_Price(S0,r,K,u,d,n):\n",
    "    pu = (1+r-d)/(u-d)\n",
    "    pd = (u-1-r)/(u-d)\n",
    "    asset_tree = BinomialTree(S0)\n",
    "    asset_tree.pop_full_tree(u,d,n)\n",
    "    deriv_tree = BinomialTree(0)\n",
    "    deriv_tree.pop_full_tree(0,0,n)\n",
    "    \n",
    "    for i in range(2**n-1,len(deriv_tree.node_list)):\n",
    "        deriv_tree.node_list[i].value = max(asset_tree.node_list[i].value-K,0)\n",
    "    \n",
    "    for i in range(0,(len(deriv_tree.node_list)-2**n)):\n",
    "        deriv_tree.node_list[(len(deriv_tree.node_list)-1-2**n)-i].value = (1/(1+r))*((pd*deriv_tree.node_list[(len(deriv_tree.node_list)-1-2**n)-i].left.value) + (pu*deriv_tree.node_list[(len(deriv_tree.node_list)-1-2**n)-i].right.value))\n",
    "    \n",
    "    return deriv_tree.node_list[0].value"
   ]
  },
  {
   "cell_type": "markdown",
   "metadata": {},
   "source": [
    "It should be noted that a person more clever than I would use the depth characteristic of the nodes to iterate in a less direct way. For example, to compute the price of the derivative, we need to iterate over the last 2^n elements of the tree, and then work our way up from the 2nd to last layer up. There is certainly a clean way to do this using node depth, but functional is better than not."
   ]
  },
  {
   "cell_type": "code",
   "execution_count": 219,
   "metadata": {
    "collapsed": true
   },
   "outputs": [],
   "source": [
    "import timeit"
   ]
  },
  {
   "cell_type": "code",
   "execution_count": 220,
   "metadata": {},
   "outputs": [
    {
     "name": "stdout",
     "output_type": "stream",
     "text": [
      "10000 loops, best of 3: 79.4 µs per loop\n"
     ]
    }
   ],
   "source": [
    "%timeit BAMP_Tree_Opt_Price(4,.25,5,2,0.5,10)"
   ]
  },
  {
   "cell_type": "code",
   "execution_count": 221,
   "metadata": {},
   "outputs": [
    {
     "data": {
      "text/plain": [
       "2.3040000000000003"
      ]
     },
     "execution_count": 221,
     "metadata": {},
     "output_type": "execute_result"
    }
   ],
   "source": [
    "BAMP_Tree_Opt_Price(4,.25,5,2,0.5,3)"
   ]
  },
  {
   "cell_type": "code",
   "execution_count": 226,
   "metadata": {},
   "outputs": [
    {
     "name": "stdout",
     "output_type": "stream",
     "text": [
      "1 loop, best of 3: 578 ms per loop\n"
     ]
    }
   ],
   "source": [
    "%timeit BAMP_MC_Opt_Price(4,.25,5,2,0.5,3,10000)"
   ]
  },
  {
   "cell_type": "code",
   "execution_count": 229,
   "metadata": {},
   "outputs": [
    {
     "data": {
      "text/plain": [
       "2.2526976000000531"
      ]
     },
     "execution_count": 229,
     "metadata": {},
     "output_type": "execute_result"
    }
   ],
   "source": [
    "BAMP_MC_Opt_Price(4,.25,5,2,0.5,3,10000)"
   ]
  },
  {
   "cell_type": "code",
   "execution_count": 230,
   "metadata": {},
   "outputs": [
    {
     "data": {
      "text/plain": [
       "2.2985410560085913"
      ]
     },
     "execution_count": 230,
     "metadata": {},
     "output_type": "execute_result"
    }
   ],
   "source": [
    "BAMP_MC_Opt_Price(4,.25,5,2,0.5,3,1000000)"
   ]
  },
  {
   "cell_type": "markdown",
   "metadata": {},
   "source": [
    "The tree method is MUCH faster and more accurate, to get similar accuracy with MC we need to run about a million trials, which is quite slow. It should be pointed out that this is only true for European options, for path dependent options flexibility will play a huge role, but that's a story for another day."
   ]
  }
 ],
 "metadata": {
  "kernelspec": {
   "display_name": "Python 2",
   "language": "python",
   "name": "python2"
  },
  "language_info": {
   "codemirror_mode": {
    "name": "ipython",
    "version": 2
   },
   "file_extension": ".py",
   "mimetype": "text/x-python",
   "name": "python",
   "nbconvert_exporter": "python",
   "pygments_lexer": "ipython2",
   "version": "2.7.14"
  }
 },
 "nbformat": 4,
 "nbformat_minor": 2
}
